{
  "nbformat": 4,
  "nbformat_minor": 0,
  "metadata": {
    "colab": {
      "name": "Crash course on python week 6.ipynb",
      "provenance": []
    },
    "kernelspec": {
      "name": "python3",
      "display_name": "Python 3"
    },
    "language_info": {
      "name": "python"
    },
    "widgets": {
      "application/vnd.jupyter.widget-state+json": {
        "20e71353a7534c458a41dbd93c8244ad": {
          "model_module": "@jupyter-widgets/base",
          "model_name": "DOMWidgetModel",
          "model_module_version": "1.2.0",
          "state": {
            "_view_name": "FileUploadView",
            "_dom_classes": [
              "widget_item",
              "btn-group"
            ],
            "_model_name": "DOMWidgetModel",
            "_view_module": "fileupload",
            "_model_module_version": "1.2.0",
            "_view_count": null,
            "_view_module_version": "",
            "data_base64": "",
            "label": "Browse",
            "layout": "IPY_MODEL_9e9eeb84278c455c9759b0d2b971b18a",
            "filename": "",
            "_model_module": "@jupyter-widgets/base"
          }
        },
        "9e9eeb84278c455c9759b0d2b971b18a": {
          "model_module": "@jupyter-widgets/base",
          "model_name": "LayoutModel",
          "model_module_version": "1.2.0",
          "state": {
            "_view_name": "LayoutView",
            "grid_template_rows": null,
            "right": null,
            "justify_content": null,
            "_view_module": "@jupyter-widgets/base",
            "overflow": null,
            "_model_module_version": "1.2.0",
            "_view_count": null,
            "flex_flow": null,
            "width": null,
            "min_width": null,
            "border": null,
            "align_items": null,
            "bottom": null,
            "_model_module": "@jupyter-widgets/base",
            "top": null,
            "grid_column": null,
            "overflow_y": null,
            "overflow_x": null,
            "grid_auto_flow": null,
            "grid_area": null,
            "grid_template_columns": null,
            "flex": null,
            "_model_name": "LayoutModel",
            "justify_items": null,
            "grid_row": null,
            "max_height": null,
            "align_content": null,
            "visibility": null,
            "align_self": null,
            "height": null,
            "min_height": null,
            "padding": null,
            "grid_auto_rows": null,
            "grid_gap": null,
            "max_width": null,
            "order": null,
            "_view_module_version": "1.2.0",
            "grid_template_areas": null,
            "object_position": null,
            "object_fit": null,
            "grid_auto_columns": null,
            "margin": null,
            "display": null,
            "left": null
          }
        }
      }
    }
  },
  "cells": [
    {
      "cell_type": "markdown",
      "source": [
        "\n",
        "### Research"
      ],
      "metadata": {
        "id": "R1brfeRqijpL"
      }
    },
    {
      "cell_type": "code",
      "source": [
        "numbers = [ 4,6,2,7,1]\n",
        "numbers.sort()\n",
        "print(numbers)"
      ],
      "metadata": {
        "colab": {
          "base_uri": "https://localhost:8080/"
        },
        "id": "V0SxFa5TijBC",
        "outputId": "85fac39d-abc9-4859-cdf4-3e55ce827ae7"
      },
      "execution_count": 4,
      "outputs": [
        {
          "output_type": "stream",
          "name": "stdout",
          "text": [
            "[1, 2, 4, 6, 7]\n"
          ]
        }
      ]
    },
    {
      "cell_type": "code",
      "source": [
        "names = [ \"Carlos\", \"Ray\", \"Alex\", \"Kelly\"]\n",
        "print(names)"
      ],
      "metadata": {
        "colab": {
          "base_uri": "https://localhost:8080/"
        },
        "id": "r-jC7Maoiu4G",
        "outputId": "75111b31-3103-4503-e395-053ec3a825bc"
      },
      "execution_count": 5,
      "outputs": [
        {
          "output_type": "stream",
          "name": "stdout",
          "text": [
            "['Carlos', 'Ray', 'Alex', 'Kelly']\n"
          ]
        }
      ]
    },
    {
      "cell_type": "code",
      "source": [
        "print(sorted(names))"
      ],
      "metadata": {
        "colab": {
          "base_uri": "https://localhost:8080/"
        },
        "id": "BAoG1tz3i4If",
        "outputId": "e5bd2275-5859-44ea-f89d-f41c8c4d8524"
      },
      "execution_count": 6,
      "outputs": [
        {
          "output_type": "stream",
          "name": "stdout",
          "text": [
            "['Alex', 'Carlos', 'Kelly', 'Ray']\n"
          ]
        }
      ]
    },
    {
      "cell_type": "code",
      "source": [
        "print(sorted(names, key=len))"
      ],
      "metadata": {
        "colab": {
          "base_uri": "https://localhost:8080/"
        },
        "id": "Pw_TbJ1Ni7TG",
        "outputId": "bc7a936a-8b10-437f-d16f-3d3e7ca8711d"
      },
      "execution_count": 8,
      "outputs": [
        {
          "output_type": "stream",
          "name": "stdout",
          "text": [
            "['Ray', 'Alex', 'Kelly', 'Carlos']\n"
          ]
        }
      ]
    },
    {
      "cell_type": "code",
      "source": [
        ""
      ],
      "metadata": {
        "id": "YTGg-HtmjArO"
      },
      "execution_count": null,
      "outputs": []
    },
    {
      "cell_type": "markdown",
      "source": [
        ""
      ],
      "metadata": {
        "id": "uKoUesbIsazC"
      }
    },
    {
      "cell_type": "markdown",
      "source": [
        "### Planning\n"
      ],
      "metadata": {
        "id": "41LIdE0tsa3q"
      }
    },
    {
      "cell_type": "code",
      "source": [
        ""
      ],
      "metadata": {
        "id": "xkHcnJCoscT_"
      },
      "execution_count": null,
      "outputs": []
    },
    {
      "cell_type": "markdown",
      "source": [
        "![image.png](data:image/png;base64,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)"
      ],
      "metadata": {
        "id": "ugrLsleMs7Hx"
      }
    },
    {
      "cell_type": "code",
      "source": [
        ""
      ],
      "metadata": {
        "id": "eatwM6UKs9Md"
      },
      "execution_count": null,
      "outputs": []
    },
    {
      "cell_type": "markdown",
      "source": [
        "### Writing the script\n"
      ],
      "metadata": {
        "id": "gmdHk_tA7dDM"
      }
    },
    {
      "cell_type": "code",
      "source": [
        "def get_event_date(event):\n",
        "  return event.date\n",
        "\n",
        "def current_users(events):\n",
        "  events.sort(ky=get_event_date)\n",
        "  machines = {}\n",
        "  for event in events:\n",
        "    if event.machine not in machines:\n",
        "      machines[event.machine] = set()\n",
        "    if event.type == \"login\":\n",
        "      machines[event.machine].add(event.user)\n",
        "    elif event.type == \"logout\":\n",
        "      machines[event.machine].remove(event.user)\n",
        "  return machines\n",
        "\n",
        "def generate_report(machines):\n",
        "  for machine, users in machines.items():\n",
        "    if len(users) > 0:\n",
        "      user_list = \", \".join(users)\n",
        "      print(\"{}: {}\".format(machine, user_list))"
      ],
      "metadata": {
        "id": "Um7a4TEC7giU"
      },
      "execution_count": 11,
      "outputs": []
    },
    {
      "cell_type": "markdown",
      "source": [
        "### Putting It All Together"
      ],
      "metadata": {
        "id": "ZMYVQilZ9RT5"
      }
    },
    {
      "cell_type": "code",
      "source": [
        "def get_event_date(event):\n",
        "  return event.date\n",
        "\n",
        "def current_users(events):\n",
        "  events.sort(key=get_event_date)\n",
        "  machines = {}\n",
        "  for event in events:\n",
        "    if event.machine not in machines:\n",
        "      machines[event.machine] = set()\n",
        "    if event.type == \"login\":\n",
        "      machines[event.machine].add(event.user)\n",
        "    elif event.type == \"logout\":\n",
        "      machines[event.machine].remove(event.user)\n",
        "  return machines\n",
        "\n",
        "def generate_report(machines):\n",
        "  for machine, users in machines.items():\n",
        "    if len(users) > 0:\n",
        "      user_list = \", \".join(users)\n",
        "      print(\"{}: {}\".format(machine, user_list))"
      ],
      "metadata": {
        "id": "8aNn-GiV84VS"
      },
      "execution_count": 22,
      "outputs": []
    },
    {
      "cell_type": "code",
      "source": [
        "class Event:\n",
        "  def __init__(self, event_date, event_type, machine_name, user):\n",
        "    self.date = event_date\n",
        "    self.type = event_type\n",
        "    self.machine = machine_name\n",
        "    self.user = user"
      ],
      "metadata": {
        "id": "m5ewGbAt9Ubp"
      },
      "execution_count": 23,
      "outputs": []
    },
    {
      "cell_type": "code",
      "source": [
        "events = [\n",
        "   Event('2020-01-21 12:45:56', 'login', 'myworkstation.local', 'jordan'),\n",
        "    Event('2020-01-22 15:53:42', 'logout', 'webserver.local', 'jordan'),\n",
        "    Event('2020-01-21 18:53:21', 'login', 'webserver.local', 'lane'),\n",
        "    Event('2020-01-22 10:25:34', 'logout', 'myworkstation.local', 'jordan'),\n",
        "    Event('2020-01-21 08:20:01', 'login', 'webserver.local', 'jordan'),\n",
        "    Event('2020-01-23 11:24:35', 'login', 'mailserver.local', 'chris'),\n",
        "#disini ada sedikit error tapi paham akan fungsi ndi dalam nya itu berbuat kalo misalkan\n",
        "#objek yang akan dimasyukkan login maka bnanti akan tercatat oleh sistem \n",
        "#tetapi kaloi logout maka nanti akan terhapus oleh sistem\n",
        "\n",
        "]\n"
      ],
      "metadata": {
        "id": "4o67d_hi9kGw"
      },
      "execution_count": 49,
      "outputs": []
    },
    {
      "cell_type": "code",
      "source": [
        "users = current_users(events)\n",
        "print(users)"
      ],
      "metadata": {
        "colab": {
          "base_uri": "https://localhost:8080/"
        },
        "id": "1WqdIshZ-vAy",
        "outputId": "cb070677-ddb7-4723-9398-c201c8824407"
      },
      "execution_count": 50,
      "outputs": [
        {
          "output_type": "stream",
          "name": "stdout",
          "text": [
            "{'webserver.local': {'lane'}, 'myworkstation.local': set(), 'mailserver.local': {'chris'}}\n"
          ]
        }
      ]
    },
    {
      "cell_type": "markdown",
      "source": [
        "![image.png](data:image/png;base64,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)"
      ],
      "metadata": {
        "id": "gwrIMp1OBIIE"
      }
    },
    {
      "cell_type": "markdown",
      "source": [
        "## Final Project"
      ],
      "metadata": {
        "id": "amMV426zEkIw"
      }
    },
    {
      "cell_type": "code",
      "source": [
        ""
      ],
      "metadata": {
        "id": "eYmuWky6-zRP"
      },
      "execution_count": null,
      "outputs": []
    },
    {
      "cell_type": "markdown",
      "source": [
        "### Final Project Help"
      ],
      "metadata": {
        "id": "mrVvhhyFEsVX"
      }
    },
    {
      "cell_type": "code",
      "source": [
        ""
      ],
      "metadata": {
        "id": "8jakaV0KEugw"
      },
      "execution_count": null,
      "outputs": []
    },
    {
      "cell_type": "markdown",
      "source": [
        "Project goal \n",
        "Create a dictionary with words and word frequencies that can be passed to the generate_from_frequencies function of the WordCloud class.\n",
        "\n",
        "Once you have the dictionary, use this code to generate the word cloud image:\n",
        "\n",
        "```\n",
        "cloud = wordcloud.WordCloud()\n",
        "cloud.generate_from_frequencies(frequencies)\n",
        "cloud.to_file(\"myfile.jpg\")\n",
        "```\n",
        "\n",
        "Things to remember \n",
        "+ Before processing any text, you need to remove all the punctuation marks. To do this, you can go through each line of text, character-by-character, using the isalpha() method. This will check whether or not the character is a letter.\n",
        "\n",
        "+ To split a line of text into words, you can use the split() method.\n",
        "\n",
        "+ Before storing words in the frequency dictionary, check if they’re part of the \"uninteresting\" set of words (for example: \"a\", \"the\", \"to\", \"if\"). Make this set a parameter to your function so that you can change it if necessary.\n",
        "\n",
        "Input file\n",
        "For the input file, you need to provide a file that contains text only. For the text itself, you can copy and paste the contents of a website you like. Or you can use a site like Project Gutenberg to find books that are available online. You could see what word clouds you can get from famous books, like a Shakespeare play or a novel by Jane Austen.\n",
        "\n",
        "Jupyter Notebooks Help\n",
        "Remember that if you need help with Jupyter Notebooks, you can check out this help page."
      ],
      "metadata": {
        "id": "hdCg4nZtEvZw"
      }
    },
    {
      "cell_type": "markdown",
      "source": [
        "## Final Test"
      ],
      "metadata": {
        "id": "HUbZC3OfUY2X"
      }
    },
    {
      "cell_type": "code",
      "source": [
        "!pip install wordcloud\n",
        "!pip install fileupload\n",
        "!pip install ipywidgets\n",
        "!jupyter nbextension install --py --user fileupload\n",
        "!jupyter nbextension enable --py fileupload\n",
        "\n",
        "import wordcloud\n",
        "import numpy as np\n",
        "from matplotlib import pyplot as plt\n",
        "from IPython.display import display\n",
        "import fileupload\n",
        "import io\n",
        "import sys"
      ],
      "metadata": {
        "colab": {
          "base_uri": "https://localhost:8080/"
        },
        "id": "T5K4YRyMJCK8",
        "outputId": "21a9f106-c021-4ffd-fa81-b5fd6c8da6f6"
      },
      "execution_count": 54,
      "outputs": [
        {
          "output_type": "stream",
          "name": "stdout",
          "text": [
            "Requirement already satisfied: wordcloud in /usr/local/lib/python3.7/dist-packages (1.5.0)\n",
            "Requirement already satisfied: numpy>=1.6.1 in /usr/local/lib/python3.7/dist-packages (from wordcloud) (1.21.5)\n",
            "Requirement already satisfied: pillow in /usr/local/lib/python3.7/dist-packages (from wordcloud) (7.1.2)\n",
            "Collecting fileupload\n",
            "  Downloading fileupload-0.1.5-py2.py3-none-any.whl (6.2 kB)\n",
            "Requirement already satisfied: ipywidgets>=5.1 in /usr/local/lib/python3.7/dist-packages (from fileupload) (7.6.5)\n",
            "Requirement already satisfied: notebook>=4.2 in /usr/local/lib/python3.7/dist-packages (from fileupload) (5.3.1)\n",
            "Requirement already satisfied: traitlets>=4.2 in /usr/local/lib/python3.7/dist-packages (from fileupload) (5.1.1)\n",
            "Requirement already satisfied: ipython-genutils~=0.2.0 in /usr/local/lib/python3.7/dist-packages (from ipywidgets>=5.1->fileupload) (0.2.0)\n",
            "Requirement already satisfied: widgetsnbextension~=3.5.0 in /usr/local/lib/python3.7/dist-packages (from ipywidgets>=5.1->fileupload) (3.5.2)\n",
            "Requirement already satisfied: jupyterlab-widgets>=1.0.0 in /usr/local/lib/python3.7/dist-packages (from ipywidgets>=5.1->fileupload) (1.0.2)\n",
            "Requirement already satisfied: ipython>=4.0.0 in /usr/local/lib/python3.7/dist-packages (from ipywidgets>=5.1->fileupload) (5.5.0)\n",
            "Requirement already satisfied: nbformat>=4.2.0 in /usr/local/lib/python3.7/dist-packages (from ipywidgets>=5.1->fileupload) (5.1.3)\n",
            "Requirement already satisfied: ipykernel>=4.5.1 in /usr/local/lib/python3.7/dist-packages (from ipywidgets>=5.1->fileupload) (4.10.1)\n",
            "Requirement already satisfied: jupyter-client in /usr/local/lib/python3.7/dist-packages (from ipykernel>=4.5.1->ipywidgets>=5.1->fileupload) (5.3.5)\n",
            "Requirement already satisfied: tornado>=4.0 in /usr/local/lib/python3.7/dist-packages (from ipykernel>=4.5.1->ipywidgets>=5.1->fileupload) (5.1.1)\n",
            "Requirement already satisfied: setuptools>=18.5 in /usr/local/lib/python3.7/dist-packages (from ipython>=4.0.0->ipywidgets>=5.1->fileupload) (57.4.0)\n",
            "Requirement already satisfied: pexpect in /usr/local/lib/python3.7/dist-packages (from ipython>=4.0.0->ipywidgets>=5.1->fileupload) (4.8.0)\n",
            "Requirement already satisfied: prompt-toolkit<2.0.0,>=1.0.4 in /usr/local/lib/python3.7/dist-packages (from ipython>=4.0.0->ipywidgets>=5.1->fileupload) (1.0.18)\n",
            "Requirement already satisfied: simplegeneric>0.8 in /usr/local/lib/python3.7/dist-packages (from ipython>=4.0.0->ipywidgets>=5.1->fileupload) (0.8.1)\n",
            "Requirement already satisfied: pygments in /usr/local/lib/python3.7/dist-packages (from ipython>=4.0.0->ipywidgets>=5.1->fileupload) (2.6.1)\n",
            "Requirement already satisfied: pickleshare in /usr/local/lib/python3.7/dist-packages (from ipython>=4.0.0->ipywidgets>=5.1->fileupload) (0.7.5)\n",
            "Requirement already satisfied: decorator in /usr/local/lib/python3.7/dist-packages (from ipython>=4.0.0->ipywidgets>=5.1->fileupload) (4.4.2)\n",
            "Requirement already satisfied: jsonschema!=2.5.0,>=2.4 in /usr/local/lib/python3.7/dist-packages (from nbformat>=4.2.0->ipywidgets>=5.1->fileupload) (4.3.3)\n",
            "Requirement already satisfied: jupyter-core in /usr/local/lib/python3.7/dist-packages (from nbformat>=4.2.0->ipywidgets>=5.1->fileupload) (4.9.2)\n",
            "Requirement already satisfied: attrs>=17.4.0 in /usr/local/lib/python3.7/dist-packages (from jsonschema!=2.5.0,>=2.4->nbformat>=4.2.0->ipywidgets>=5.1->fileupload) (21.4.0)\n",
            "Requirement already satisfied: typing-extensions in /usr/local/lib/python3.7/dist-packages (from jsonschema!=2.5.0,>=2.4->nbformat>=4.2.0->ipywidgets>=5.1->fileupload) (3.10.0.2)\n",
            "Requirement already satisfied: importlib-metadata in /usr/local/lib/python3.7/dist-packages (from jsonschema!=2.5.0,>=2.4->nbformat>=4.2.0->ipywidgets>=5.1->fileupload) (4.11.2)\n",
            "Requirement already satisfied: importlib-resources>=1.4.0 in /usr/local/lib/python3.7/dist-packages (from jsonschema!=2.5.0,>=2.4->nbformat>=4.2.0->ipywidgets>=5.1->fileupload) (5.4.0)\n",
            "Requirement already satisfied: pyrsistent!=0.17.0,!=0.17.1,!=0.17.2,>=0.14.0 in /usr/local/lib/python3.7/dist-packages (from jsonschema!=2.5.0,>=2.4->nbformat>=4.2.0->ipywidgets>=5.1->fileupload) (0.18.1)\n",
            "Requirement already satisfied: zipp>=3.1.0 in /usr/local/lib/python3.7/dist-packages (from importlib-resources>=1.4.0->jsonschema!=2.5.0,>=2.4->nbformat>=4.2.0->ipywidgets>=5.1->fileupload) (3.7.0)\n",
            "Requirement already satisfied: jinja2 in /usr/local/lib/python3.7/dist-packages (from notebook>=4.2->fileupload) (2.11.3)\n",
            "Requirement already satisfied: terminado>=0.8.1 in /usr/local/lib/python3.7/dist-packages (from notebook>=4.2->fileupload) (0.13.1)\n",
            "Requirement already satisfied: nbconvert in /usr/local/lib/python3.7/dist-packages (from notebook>=4.2->fileupload) (5.6.1)\n",
            "Requirement already satisfied: Send2Trash in /usr/local/lib/python3.7/dist-packages (from notebook>=4.2->fileupload) (1.8.0)\n",
            "Requirement already satisfied: pyzmq>=13 in /usr/local/lib/python3.7/dist-packages (from jupyter-client->ipykernel>=4.5.1->ipywidgets>=5.1->fileupload) (22.3.0)\n",
            "Requirement already satisfied: python-dateutil>=2.1 in /usr/local/lib/python3.7/dist-packages (from jupyter-client->ipykernel>=4.5.1->ipywidgets>=5.1->fileupload) (2.8.2)\n",
            "Requirement already satisfied: wcwidth in /usr/local/lib/python3.7/dist-packages (from prompt-toolkit<2.0.0,>=1.0.4->ipython>=4.0.0->ipywidgets>=5.1->fileupload) (0.2.5)\n",
            "Requirement already satisfied: six>=1.9.0 in /usr/local/lib/python3.7/dist-packages (from prompt-toolkit<2.0.0,>=1.0.4->ipython>=4.0.0->ipywidgets>=5.1->fileupload) (1.15.0)\n",
            "Requirement already satisfied: ptyprocess in /usr/local/lib/python3.7/dist-packages (from terminado>=0.8.1->notebook>=4.2->fileupload) (0.7.0)\n",
            "Requirement already satisfied: MarkupSafe>=0.23 in /usr/local/lib/python3.7/dist-packages (from jinja2->notebook>=4.2->fileupload) (2.0.1)\n",
            "Requirement already satisfied: bleach in /usr/local/lib/python3.7/dist-packages (from nbconvert->notebook>=4.2->fileupload) (4.1.0)\n",
            "Requirement already satisfied: pandocfilters>=1.4.1 in /usr/local/lib/python3.7/dist-packages (from nbconvert->notebook>=4.2->fileupload) (1.5.0)\n",
            "Requirement already satisfied: mistune<2,>=0.8.1 in /usr/local/lib/python3.7/dist-packages (from nbconvert->notebook>=4.2->fileupload) (0.8.4)\n",
            "Requirement already satisfied: entrypoints>=0.2.2 in /usr/local/lib/python3.7/dist-packages (from nbconvert->notebook>=4.2->fileupload) (0.4)\n",
            "Requirement already satisfied: defusedxml in /usr/local/lib/python3.7/dist-packages (from nbconvert->notebook>=4.2->fileupload) (0.7.1)\n",
            "Requirement already satisfied: testpath in /usr/local/lib/python3.7/dist-packages (from nbconvert->notebook>=4.2->fileupload) (0.6.0)\n",
            "Requirement already satisfied: packaging in /usr/local/lib/python3.7/dist-packages (from bleach->nbconvert->notebook>=4.2->fileupload) (21.3)\n",
            "Requirement already satisfied: webencodings in /usr/local/lib/python3.7/dist-packages (from bleach->nbconvert->notebook>=4.2->fileupload) (0.5.1)\n",
            "Requirement already satisfied: pyparsing!=3.0.5,>=2.0.2 in /usr/local/lib/python3.7/dist-packages (from packaging->bleach->nbconvert->notebook>=4.2->fileupload) (3.0.7)\n",
            "Installing collected packages: fileupload\n",
            "Successfully installed fileupload-0.1.5\n",
            "Requirement already satisfied: ipywidgets in /usr/local/lib/python3.7/dist-packages (7.6.5)\n",
            "Requirement already satisfied: traitlets>=4.3.1 in /usr/local/lib/python3.7/dist-packages (from ipywidgets) (5.1.1)\n",
            "Requirement already satisfied: jupyterlab-widgets>=1.0.0 in /usr/local/lib/python3.7/dist-packages (from ipywidgets) (1.0.2)\n",
            "Requirement already satisfied: ipython>=4.0.0 in /usr/local/lib/python3.7/dist-packages (from ipywidgets) (5.5.0)\n",
            "Requirement already satisfied: nbformat>=4.2.0 in /usr/local/lib/python3.7/dist-packages (from ipywidgets) (5.1.3)\n",
            "Requirement already satisfied: ipykernel>=4.5.1 in /usr/local/lib/python3.7/dist-packages (from ipywidgets) (4.10.1)\n",
            "Requirement already satisfied: ipython-genutils~=0.2.0 in /usr/local/lib/python3.7/dist-packages (from ipywidgets) (0.2.0)\n",
            "Requirement already satisfied: widgetsnbextension~=3.5.0 in /usr/local/lib/python3.7/dist-packages (from ipywidgets) (3.5.2)\n",
            "Requirement already satisfied: jupyter-client in /usr/local/lib/python3.7/dist-packages (from ipykernel>=4.5.1->ipywidgets) (5.3.5)\n",
            "Requirement already satisfied: tornado>=4.0 in /usr/local/lib/python3.7/dist-packages (from ipykernel>=4.5.1->ipywidgets) (5.1.1)\n",
            "Requirement already satisfied: decorator in /usr/local/lib/python3.7/dist-packages (from ipython>=4.0.0->ipywidgets) (4.4.2)\n",
            "Requirement already satisfied: simplegeneric>0.8 in /usr/local/lib/python3.7/dist-packages (from ipython>=4.0.0->ipywidgets) (0.8.1)\n",
            "Requirement already satisfied: setuptools>=18.5 in /usr/local/lib/python3.7/dist-packages (from ipython>=4.0.0->ipywidgets) (57.4.0)\n",
            "Requirement already satisfied: pygments in /usr/local/lib/python3.7/dist-packages (from ipython>=4.0.0->ipywidgets) (2.6.1)\n",
            "Requirement already satisfied: pickleshare in /usr/local/lib/python3.7/dist-packages (from ipython>=4.0.0->ipywidgets) (0.7.5)\n",
            "Requirement already satisfied: pexpect in /usr/local/lib/python3.7/dist-packages (from ipython>=4.0.0->ipywidgets) (4.8.0)\n",
            "Requirement already satisfied: prompt-toolkit<2.0.0,>=1.0.4 in /usr/local/lib/python3.7/dist-packages (from ipython>=4.0.0->ipywidgets) (1.0.18)\n",
            "Requirement already satisfied: jsonschema!=2.5.0,>=2.4 in /usr/local/lib/python3.7/dist-packages (from nbformat>=4.2.0->ipywidgets) (4.3.3)\n",
            "Requirement already satisfied: jupyter-core in /usr/local/lib/python3.7/dist-packages (from nbformat>=4.2.0->ipywidgets) (4.9.2)\n",
            "Requirement already satisfied: importlib-resources>=1.4.0 in /usr/local/lib/python3.7/dist-packages (from jsonschema!=2.5.0,>=2.4->nbformat>=4.2.0->ipywidgets) (5.4.0)\n",
            "Requirement already satisfied: typing-extensions in /usr/local/lib/python3.7/dist-packages (from jsonschema!=2.5.0,>=2.4->nbformat>=4.2.0->ipywidgets) (3.10.0.2)\n",
            "Requirement already satisfied: pyrsistent!=0.17.0,!=0.17.1,!=0.17.2,>=0.14.0 in /usr/local/lib/python3.7/dist-packages (from jsonschema!=2.5.0,>=2.4->nbformat>=4.2.0->ipywidgets) (0.18.1)\n",
            "Requirement already satisfied: attrs>=17.4.0 in /usr/local/lib/python3.7/dist-packages (from jsonschema!=2.5.0,>=2.4->nbformat>=4.2.0->ipywidgets) (21.4.0)\n",
            "Requirement already satisfied: importlib-metadata in /usr/local/lib/python3.7/dist-packages (from jsonschema!=2.5.0,>=2.4->nbformat>=4.2.0->ipywidgets) (4.11.2)\n",
            "Requirement already satisfied: zipp>=3.1.0 in /usr/local/lib/python3.7/dist-packages (from importlib-resources>=1.4.0->jsonschema!=2.5.0,>=2.4->nbformat>=4.2.0->ipywidgets) (3.7.0)\n",
            "Requirement already satisfied: wcwidth in /usr/local/lib/python3.7/dist-packages (from prompt-toolkit<2.0.0,>=1.0.4->ipython>=4.0.0->ipywidgets) (0.2.5)\n",
            "Requirement already satisfied: six>=1.9.0 in /usr/local/lib/python3.7/dist-packages (from prompt-toolkit<2.0.0,>=1.0.4->ipython>=4.0.0->ipywidgets) (1.15.0)\n",
            "Requirement already satisfied: notebook>=4.4.1 in /usr/local/lib/python3.7/dist-packages (from widgetsnbextension~=3.5.0->ipywidgets) (5.3.1)\n",
            "Requirement already satisfied: nbconvert in /usr/local/lib/python3.7/dist-packages (from notebook>=4.4.1->widgetsnbextension~=3.5.0->ipywidgets) (5.6.1)\n",
            "Requirement already satisfied: terminado>=0.8.1 in /usr/local/lib/python3.7/dist-packages (from notebook>=4.4.1->widgetsnbextension~=3.5.0->ipywidgets) (0.13.1)\n",
            "Requirement already satisfied: Send2Trash in /usr/local/lib/python3.7/dist-packages (from notebook>=4.4.1->widgetsnbextension~=3.5.0->ipywidgets) (1.8.0)\n",
            "Requirement already satisfied: jinja2 in /usr/local/lib/python3.7/dist-packages (from notebook>=4.4.1->widgetsnbextension~=3.5.0->ipywidgets) (2.11.3)\n",
            "Requirement already satisfied: pyzmq>=13 in /usr/local/lib/python3.7/dist-packages (from jupyter-client->ipykernel>=4.5.1->ipywidgets) (22.3.0)\n",
            "Requirement already satisfied: python-dateutil>=2.1 in /usr/local/lib/python3.7/dist-packages (from jupyter-client->ipykernel>=4.5.1->ipywidgets) (2.8.2)\n",
            "Requirement already satisfied: ptyprocess in /usr/local/lib/python3.7/dist-packages (from terminado>=0.8.1->notebook>=4.4.1->widgetsnbextension~=3.5.0->ipywidgets) (0.7.0)\n",
            "Requirement already satisfied: MarkupSafe>=0.23 in /usr/local/lib/python3.7/dist-packages (from jinja2->notebook>=4.4.1->widgetsnbextension~=3.5.0->ipywidgets) (2.0.1)\n",
            "Requirement already satisfied: mistune<2,>=0.8.1 in /usr/local/lib/python3.7/dist-packages (from nbconvert->notebook>=4.4.1->widgetsnbextension~=3.5.0->ipywidgets) (0.8.4)\n",
            "Requirement already satisfied: pandocfilters>=1.4.1 in /usr/local/lib/python3.7/dist-packages (from nbconvert->notebook>=4.4.1->widgetsnbextension~=3.5.0->ipywidgets) (1.5.0)\n",
            "Requirement already satisfied: defusedxml in /usr/local/lib/python3.7/dist-packages (from nbconvert->notebook>=4.4.1->widgetsnbextension~=3.5.0->ipywidgets) (0.7.1)\n",
            "Requirement already satisfied: entrypoints>=0.2.2 in /usr/local/lib/python3.7/dist-packages (from nbconvert->notebook>=4.4.1->widgetsnbextension~=3.5.0->ipywidgets) (0.4)\n",
            "Requirement already satisfied: testpath in /usr/local/lib/python3.7/dist-packages (from nbconvert->notebook>=4.4.1->widgetsnbextension~=3.5.0->ipywidgets) (0.6.0)\n",
            "Requirement already satisfied: bleach in /usr/local/lib/python3.7/dist-packages (from nbconvert->notebook>=4.4.1->widgetsnbextension~=3.5.0->ipywidgets) (4.1.0)\n",
            "Requirement already satisfied: packaging in /usr/local/lib/python3.7/dist-packages (from bleach->nbconvert->notebook>=4.4.1->widgetsnbextension~=3.5.0->ipywidgets) (21.3)\n",
            "Requirement already satisfied: webencodings in /usr/local/lib/python3.7/dist-packages (from bleach->nbconvert->notebook>=4.4.1->widgetsnbextension~=3.5.0->ipywidgets) (0.5.1)\n",
            "Requirement already satisfied: pyparsing!=3.0.5,>=2.0.2 in /usr/local/lib/python3.7/dist-packages (from packaging->bleach->nbconvert->notebook>=4.4.1->widgetsnbextension~=3.5.0->ipywidgets) (3.0.7)\n",
            "Traceback (most recent call last):\n",
            "  File \"/usr/local/bin/jupyter-nbextension\", line 8, in <module>\n",
            "    sys.exit(main())\n",
            "  File \"/usr/local/lib/python2.7/dist-packages/jupyter_core/application.py\", line 267, in launch_instance\n",
            "    return super(JupyterApp, cls).launch_instance(argv=argv, **kwargs)\n",
            "  File \"/usr/local/lib/python2.7/dist-packages/traitlets/config/application.py\", line 658, in launch_instance\n",
            "    app.start()\n",
            "  File \"/usr/local/lib/python2.7/dist-packages/notebook/nbextensions.py\", line 988, in start\n",
            "    super(NBExtensionApp, self).start()\n",
            "  File \"/usr/local/lib/python2.7/dist-packages/jupyter_core/application.py\", line 256, in start\n",
            "    self.subapp.start()\n",
            "  File \"/usr/local/lib/python2.7/dist-packages/notebook/nbextensions.py\", line 716, in start\n",
            "    self.install_extensions()\n",
            "  File \"/usr/local/lib/python2.7/dist-packages/notebook/nbextensions.py\", line 695, in install_extensions\n",
            "    **kwargs\n",
            "  File \"/usr/local/lib/python2.7/dist-packages/notebook/nbextensions.py\", line 211, in install_nbextension_python\n",
            "    m, nbexts = _get_nbextension_metadata(module)\n",
            "  File \"/usr/local/lib/python2.7/dist-packages/notebook/nbextensions.py\", line 1122, in _get_nbextension_metadata\n",
            "    m = import_item(module)\n",
            "  File \"/usr/local/lib/python2.7/dist-packages/traitlets/utils/importstring.py\", line 42, in import_item\n",
            "    return __import__(parts[0])\n",
            "ImportError: No module named fileupload\n",
            "Traceback (most recent call last):\n",
            "  File \"/usr/local/bin/jupyter-nbextension\", line 8, in <module>\n",
            "    sys.exit(main())\n",
            "  File \"/usr/local/lib/python2.7/dist-packages/jupyter_core/application.py\", line 267, in launch_instance\n",
            "    return super(JupyterApp, cls).launch_instance(argv=argv, **kwargs)\n",
            "  File \"/usr/local/lib/python2.7/dist-packages/traitlets/config/application.py\", line 658, in launch_instance\n",
            "    app.start()\n",
            "  File \"/usr/local/lib/python2.7/dist-packages/notebook/nbextensions.py\", line 988, in start\n",
            "    super(NBExtensionApp, self).start()\n",
            "  File \"/usr/local/lib/python2.7/dist-packages/jupyter_core/application.py\", line 256, in start\n",
            "    self.subapp.start()\n",
            "  File \"/usr/local/lib/python2.7/dist-packages/notebook/nbextensions.py\", line 896, in start\n",
            "    self.toggle_nbextension_python(self.extra_args[0])\n",
            "  File \"/usr/local/lib/python2.7/dist-packages/notebook/nbextensions.py\", line 872, in toggle_nbextension_python\n",
            "    logger=self.log)\n",
            "  File \"/usr/local/lib/python2.7/dist-packages/notebook/nbextensions.py\", line 483, in enable_nbextension_python\n",
            "    logger=logger)\n",
            "  File \"/usr/local/lib/python2.7/dist-packages/notebook/nbextensions.py\", line 380, in _set_nbextension_state_python\n",
            "    m, nbexts = _get_nbextension_metadata(module)\n",
            "  File \"/usr/local/lib/python2.7/dist-packages/notebook/nbextensions.py\", line 1122, in _get_nbextension_metadata\n",
            "    m = import_item(module)\n",
            "  File \"/usr/local/lib/python2.7/dist-packages/traitlets/utils/importstring.py\", line 42, in import_item\n",
            "    return __import__(parts[0])\n",
            "ImportError: No module named fileupload\n"
          ]
        }
      ]
    },
    {
      "cell_type": "code",
      "source": [
        "def _upload():\n",
        "\n",
        "    _upload_widget = fileupload.FileUploadWidget()\n",
        "\n",
        "    def _cb(change):\n",
        "        global file_contents\n",
        "        decoded = io.StringIO(change['owner'].data.decode('utf-8'))\n",
        "        filename = change['owner'].filename\n",
        "        print('Uploaded `{}` ({:.2f} kB)'.format(\n",
        "            filename, len(decoded.read()) / 2 **10))\n",
        "        file_contents = decoded.getvalue()\n",
        "\n",
        "    _upload_widget.observe(_cb, names='data')\n",
        "    display(_upload_widget)\n",
        "\n",
        "_upload()"
      ],
      "metadata": {
        "colab": {
          "base_uri": "https://localhost:8080/",
          "height": 17,
          "referenced_widgets": [
            "20e71353a7534c458a41dbd93c8244ad",
            "9e9eeb84278c455c9759b0d2b971b18a"
          ]
        },
        "id": "E_9V_LMpI-GK",
        "outputId": "5b544ce7-4844-416f-bc48-bda2165429ba"
      },
      "execution_count": 62,
      "outputs": [
        {
          "output_type": "display_data",
          "data": {
            "application/vnd.jupyter.widget-view+json": {
              "model_id": "20e71353a7534c458a41dbd93c8244ad",
              "version_minor": 0,
              "version_major": 2
            },
            "text/plain": [
              "FileUploadWidget(label='Browse', _dom_classes=('widget_item', 'btn-group'))"
            ]
          },
          "metadata": {}
        }
      ]
    },
    {
      "cell_type": "code",
      "source": [
        "\n",
        "def calculate_frequencies(file_contents):\n",
        "    # Here is a list of punctuations and uninteresting words you can use to process your text\n",
        "    punctuations = '''!()-[]{};:'\"\\,<>./?@#$%^&*_~'''\n",
        "    uninteresting_words = [\"the\", \"a\", \"to\", \"if\", \"is\", \"it\", \"of\", \"and\", \"or\", \"an\", \"as\", \"i\", \"me\", \"my\", \\\n",
        "    \"we\", \"our\", \"ours\", \"you\", \"your\", \"yours\", \"he\", \"she\", \"him\", \"his\", \"her\", \"hers\", \"its\", \"they\", \"them\", \\\n",
        "    \"their\", \"what\", \"which\", \"who\", \"whom\", \"this\", \"that\", \"am\", \"are\", \"was\", \"were\", \"be\", \"been\", \"being\", \\\n",
        "    \"have\", \"has\", \"had\", \"do\", \"does\", \"did\", \"but\", \"at\", \"by\", \"with\", \"from\", \"here\", \"when\", \"where\", \"how\", \\\n",
        "    \"all\", \"any\", \"both\", \"each\", \"few\", \"more\", \"some\", \"such\", \"no\", \"nor\", \"too\", \"very\", \"can\", \"will\", \"just\"]\n",
        "    \n",
        "    # LEARNER CODE START HERE\n",
        "    final_result={}\n",
        "    conditional_file = file_contents.lower()\n",
        "    conditional_file = file_contents.split(\" \")\n",
        "    for word_input in conditional_file:\n",
        "        word_input = word.lower()\n",
        "        if word_input in uninterasting_words:\n",
        "            pass\n",
        "        else:\n",
        "            for letter in word_input:\n",
        "                if letter in punctuations:\n",
        "                    letter.replace(punctuations,\"\")\n",
        "            if word_input not in result.keys():\n",
        "                result[word_input]= 0\n",
        "            else:\n",
        "                result[word_input]+=1\n",
        "    \n",
        "    \n",
        "    #wordcloud\n",
        "    cloud = wordcloud.WordCloud()\n",
        "    cloud.generate_from_frequencies(final_result)\n",
        "    return cloud.to_array()"
      ],
      "metadata": {
        "id": "LC-OymA8E68U"
      },
      "execution_count": 59,
      "outputs": []
    },
    {
      "cell_type": "code",
      "source": [
        "myimage = calculate_frequencies(file_contents)\n",
        "plt.imshow(myimage, interpolation = 'nearest')\n",
        "plt.axis('off')\n",
        "plt.show()"
      ],
      "metadata": {
        "colab": {
          "base_uri": "https://localhost:8080/",
          "height": 225
        },
        "id": "rWbPkKTzI3Bm",
        "outputId": "79401f9a-2c2d-4f76-cd07-22b4acbd520d"
      },
      "execution_count": 60,
      "outputs": [
        {
          "output_type": "error",
          "ename": "NameError",
          "evalue": "ignored",
          "traceback": [
            "\u001b[0;31m---------------------------------------------------------------------------\u001b[0m",
            "\u001b[0;31mNameError\u001b[0m                                 Traceback (most recent call last)",
            "\u001b[0;32m<ipython-input-60-c35c8b6edec5>\u001b[0m in \u001b[0;36m<module>\u001b[0;34m()\u001b[0m\n\u001b[0;32m----> 1\u001b[0;31m \u001b[0mmyimage\u001b[0m \u001b[0;34m=\u001b[0m \u001b[0mcalculate_frequencies\u001b[0m\u001b[0;34m(\u001b[0m\u001b[0mfile_contents\u001b[0m\u001b[0;34m)\u001b[0m\u001b[0;34m\u001b[0m\u001b[0;34m\u001b[0m\u001b[0m\n\u001b[0m\u001b[1;32m      2\u001b[0m \u001b[0mplt\u001b[0m\u001b[0;34m.\u001b[0m\u001b[0mimshow\u001b[0m\u001b[0;34m(\u001b[0m\u001b[0mmyimage\u001b[0m\u001b[0;34m,\u001b[0m \u001b[0minterpolation\u001b[0m \u001b[0;34m=\u001b[0m \u001b[0;34m'nearest'\u001b[0m\u001b[0;34m)\u001b[0m\u001b[0;34m\u001b[0m\u001b[0;34m\u001b[0m\u001b[0m\n\u001b[1;32m      3\u001b[0m \u001b[0mplt\u001b[0m\u001b[0;34m.\u001b[0m\u001b[0maxis\u001b[0m\u001b[0;34m(\u001b[0m\u001b[0;34m'off'\u001b[0m\u001b[0;34m)\u001b[0m\u001b[0;34m\u001b[0m\u001b[0;34m\u001b[0m\u001b[0m\n\u001b[1;32m      4\u001b[0m \u001b[0mplt\u001b[0m\u001b[0;34m.\u001b[0m\u001b[0mshow\u001b[0m\u001b[0;34m(\u001b[0m\u001b[0;34m)\u001b[0m\u001b[0;34m\u001b[0m\u001b[0;34m\u001b[0m\u001b[0m\n",
            "\u001b[0;31mNameError\u001b[0m: name 'file_contents' is not defined"
          ]
        }
      ]
    }
  ]
}
