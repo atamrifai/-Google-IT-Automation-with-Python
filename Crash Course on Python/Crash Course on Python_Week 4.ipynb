{
  "nbformat": 4,
  "nbformat_minor": 0,
  "metadata": {
    "colab": {
      "name": "course python_week 4",
      "provenance": []
    },
    "kernelspec": {
      "name": "python3",
      "display_name": "Python 3"
    },
    "language_info": {
      "name": "python"
    }
  },
  "cells": [
    {
      "cell_type": "markdown",
      "source": [
        "# Week 4"
      ],
      "metadata": {
        "id": "pv2x2hFTHIlx"
      }
    },
    {
      "cell_type": "markdown",
      "source": [
        "## Lists"
      ],
      "metadata": {
        "id": "PbPVKSXlsp5y"
      }
    },
    {
      "cell_type": "code",
      "execution_count": null,
      "metadata": {
        "id": "_AQH_17dpeEM"
      },
      "outputs": [],
      "source": [
        "\n",
        "def convert_second(seconds):\n",
        "  hours = seconds // 3600\n",
        "  minutes = (seconds - hours * 3600) // 60\n",
        "  remaining_seconds = seconds - hours * 3600 - minutes * 60\n",
        "  return hours, minutes, remaining_seconds\n",
        "\n",
        "result = convert_second(5000)\n",
        "type(result)\n"
      ]
    },
    {
      "cell_type": "code",
      "source": [
        "print(result)\n",
        "hours, minutes, seconds = result\n",
        "print(hours, minutes,)"
      ],
      "metadata": {
        "id": "7NhVd_2dsnqV"
      },
      "execution_count": null,
      "outputs": []
    },
    {
      "cell_type": "code",
      "source": [
        ""
      ],
      "metadata": {
        "id": "qDaWBb7WCoUL"
      },
      "execution_count": null,
      "outputs": []
    },
    {
      "cell_type": "code",
      "source": [
        "hours, minutes, seconds = convert_second(1000)\n",
        "print(hours, minutes, seconds) \n",
        "# jadi kalo tupple mau di pecah harus di ubah dahulu menjadi objek dalam variab;e\n"
      ],
      "metadata": {
        "id": "N3SlU4PRt-gT"
      },
      "execution_count": null,
      "outputs": []
    },
    {
      "cell_type": "code",
      "source": [
        "hours, minutes, seconds = convert_second(10000)\n",
        "print(\"sekarang \", hours, minutes, seconds)"
      ],
      "metadata": {
        "id": "OMETfzbEujG7"
      },
      "execution_count": null,
      "outputs": []
    },
    {
      "cell_type": "markdown",
      "source": [
        "### Iterating over Lists and Tuples"
      ],
      "metadata": {
        "id": "xIgpyE_Ty1Hq"
      }
    },
    {
      "cell_type": "code",
      "source": [
        "animals = [\"lion\", \"Zebra\", \"Dolphin\", \"Monkey\"]\n",
        "chars = 0\n",
        "for animal in animals:\n",
        "  chars += len (animal)\n",
        "\n",
        "print (\"Total characters: {}, Average lwngth: {}\".format(chars, chars/len(animals)))\n",
        "\n"
      ],
      "metadata": {
        "id": "XQ4tC_KRy6MS"
      },
      "execution_count": null,
      "outputs": []
    },
    {
      "cell_type": "code",
      "source": [
        "winners = [\"Ashley\", \"Dylan\", \"Reese\"]\n",
        "for index, person in enumerate(winners):\n",
        "  print(\"{} - {}\".format(index + 1, person))"
      ],
      "metadata": {
        "id": "ONTPXUwgzthI"
      },
      "execution_count": null,
      "outputs": []
    },
    {
      "cell_type": "code",
      "source": [
        "def skip_elements(elements):\n",
        "  new_elements = []\n",
        "  for element in elements:\n",
        "    if elements.index(element) % 2 == 0:\n",
        "      new_elements.append(element)\n",
        "  return new_elements\n",
        "\n",
        "print(skip_elements([\"a\", \"b\", \"c\", \"d\", \"e\", \"f\", \"g\"])) # Should be ['a', 'c', 'e', 'g']\n",
        "print(skip_elements(['Orange', 'Pineapple', 'Strawberry', 'Kiwi', 'Peach'])) # Should be ['Orange', 'Strawberry', 'Peach']\n",
        "print(skip_elements([])) # Should be []\n",
        "# Lists and Tuples"
      ],
      "metadata": {
        "id": "WxCYamAa4iRo"
      },
      "execution_count": null,
      "outputs": []
    },
    {
      "cell_type": "code",
      "source": [
        "def full_emails(people):\n",
        "  result = []\n",
        "  for email, name in people:\n",
        "    result.append(\"{} <{}>\".format(name, email))\n",
        "  return result\n",
        "\n",
        "print(full_emails([(\"alex@example.com\", \"Alex Diego\"), \n",
        "                     (\"shat@example.com\", \"Shay Brandt\")]))"
      ],
      "metadata": {
        "id": "GFMEZ0qv6Z9C"
      },
      "execution_count": null,
      "outputs": []
    },
    {
      "cell_type": "markdown",
      "source": [
        "### List Comprehensions"
      ],
      "metadata": {
        "id": "GiUUpMHQ9jlK"
      }
    },
    {
      "cell_type": "code",
      "source": [
        "multiples = []\n",
        "for x in range ( 1, 11):\n",
        "  multiples.append(x*7)\n",
        "\n",
        "print(multiples)"
      ],
      "metadata": {
        "id": "CjnPpZ0q65zx"
      },
      "execution_count": null,
      "outputs": []
    },
    {
      "cell_type": "code",
      "source": [
        "multiples = [x*2 for x in range(1,11)]\n",
        "print(multiples)"
      ],
      "metadata": {
        "id": "N4Y9shOT93ul"
      },
      "execution_count": null,
      "outputs": []
    },
    {
      "cell_type": "code",
      "source": [
        "languages = [\"Python\", \"Perl\", \"Ruby\", \"Go\", \"Java\", \"C\"]\n",
        "lengths = [len(language) for language in languages]\n",
        "print(lengths)"
      ],
      "metadata": {
        "id": "w-9RKBrH-blk"
      },
      "execution_count": null,
      "outputs": []
    },
    {
      "cell_type": "code",
      "source": [
        " z = [ x for x in range (0, 101) if x % 3 == 0]\n",
        " print(z)"
      ],
      "metadata": {
        "id": "Pm2n6GMi-gOd"
      },
      "execution_count": null,
      "outputs": []
    },
    {
      "cell_type": "code",
      "source": [
        ""
      ],
      "metadata": {
        "id": "gQ_4Y3qICqGc"
      },
      "execution_count": null,
      "outputs": []
    },
    {
      "cell_type": "markdown",
      "source": [
        "## Dictionaries\n"
      ],
      "metadata": {
        "id": "LTXpH-IsCvJp"
      }
    },
    {
      "cell_type": "markdown",
      "source": [
        "### What is a dictionary?"
      ],
      "metadata": {
        "id": "9kbsatcPDBGc"
      }
    },
    {
      "cell_type": "code",
      "source": [
        "file_counts = {\"jpg\":10, \"txt\":14, \"csv\":2, \"py\":23}\n",
        "type(file_counts)\n",
        "print(file_counts)"
      ],
      "metadata": {
        "id": "O9WQALlYCua0"
      },
      "execution_count": null,
      "outputs": []
    },
    {
      "cell_type": "code",
      "source": [
        "file_counts[\"cfg\"] = 8\n",
        "print(file_counts)"
      ],
      "metadata": {
        "id": "TszqpjRjD7n4"
      },
      "execution_count": null,
      "outputs": []
    },
    {
      "cell_type": "code",
      "source": [
        "file_counts[\"csv\"] = 17\n",
        "print(file_counts)"
      ],
      "metadata": {
        "id": "zL2mtSNxD-lV"
      },
      "execution_count": null,
      "outputs": []
    },
    {
      "cell_type": "code",
      "source": [
        "\"jpg\" in file_counts"
      ],
      "metadata": {
        "id": "dOU60GoPEOIM"
      },
      "execution_count": null,
      "outputs": []
    },
    {
      "cell_type": "code",
      "source": [
        "del file_counts[\"cfg\"]\n",
        "print(file_counts)"
      ],
      "metadata": {
        "id": "WFXpQVvOE9qy"
      },
      "execution_count": null,
      "outputs": []
    },
    {
      "cell_type": "code",
      "source": [
        "toc = {\"Introduction\":1, \"Chapter 1\":4, \"Chapter 2\":11, \"Chapter 3\":25, \"Chapter 4\":30}\n",
        "toc[\"Epilogue\"] = 39 # Epilogue starts on page 39\n",
        "toc[\"Chapter 3\"] = 24 # Chapter 3 now starts on page 24\n",
        "print(toc) # What are the current contents of the dictionary?\n",
        "\"Chapter 5\" in toc # Is there a Chapter 5?"
      ],
      "metadata": {
        "id": "idaF7EqjFEOz"
      },
      "execution_count": null,
      "outputs": []
    },
    {
      "cell_type": "markdown",
      "source": [
        "### Dictionaries Defined"
      ],
      "metadata": {
        "id": "en2F5FB5KKgQ"
      }
    },
    {
      "cell_type": "markdown",
      "source": [
        "Dictionaries are another data structure in Python. They’re similar to a list in that they can be used to organize data into collections. However, data in a dictionary isn't accessed based on its position. Data in a dictionary is organized into pairs of keys and values. You use the key to access the corresponding value. Where a list index is always a number, a dictionary key can be a different data type, like a string, integer, float, or even tuples.\n",
        "\n",
        "When creating a dictionary, you use curly brackets: {}. When storing values in a dictionary, the key is specified first, followed by the corresponding value, separated by a colon. For example, animals = { \"bears\":10, \"lions\":1, \"tigers\":2 } creates a dictionary with three key value pairs, stored in the variable animals. The key \"bears\" points to the integer value 10, while the key \"lions\" points to the integer value 1, and \"tigers\" points to the integer 2. You can access the values by referencing the key, like this: animals[\"bears\"]. This would return the integer 10, since that’s the corresponding value for this key.\n",
        "\n",
        "You can also check if a key is contained in a dictionary using the in keyword. Just like other uses of this keyword, it will return True if the key is found in the dictionary; otherwise it will return False.\n",
        "\n",
        "Dictionaries are mutable, meaning they can be modified by adding, removing, and replacing elements in a dictionary, similar to lists. You can add a new key value pair to a dictionary by assigning a value to the key, like this: animals[\"zebras\"] = 2. This creates the new key in the animal dictionary called zebras, and stores the value 2. You can modify the value of an existing key by doing the same thing. So animals[\"bears\"] = 11 would change the value stored in the bears key from 10 to 11. Lastly, you can remove elements from a dictionary by using the del keyword. By doing del animals[\"lions\"] you would remove the key value pair from the animals dictionary."
      ],
      "metadata": {
        "id": "LeGAHLdOGa2m"
      }
    },
    {
      "cell_type": "markdown",
      "source": [
        "### Iterating over the Contents of a Dictionary"
      ],
      "metadata": {
        "id": "Eg5KFEyKG8dl"
      }
    },
    {
      "cell_type": "code",
      "source": [
        "file_counts = {\"jpg\":10, \"txt\":14, \"csv\":2, \"py\":23}\n",
        "for extension in file_counts:\n",
        "  print(extension)"
      ],
      "metadata": {
        "id": "whvWBQwzG93N"
      },
      "execution_count": null,
      "outputs": []
    },
    {
      "cell_type": "code",
      "source": [
        "for ext, amount in file_counts.items():\n",
        "  print(\"There are {} files with the .{} extension\".format(amount, ext))"
      ],
      "metadata": {
        "id": "LVHrD9qrHjrX"
      },
      "execution_count": null,
      "outputs": []
    },
    {
      "cell_type": "code",
      "source": [
        "file_counts.keys()"
      ],
      "metadata": {
        "id": "ctEgjkcgH6-F"
      },
      "execution_count": null,
      "outputs": []
    },
    {
      "cell_type": "code",
      "source": [
        "file_counts.values()"
      ],
      "metadata": {
        "id": "5cHuqp6YIFbs"
      },
      "execution_count": null,
      "outputs": []
    },
    {
      "cell_type": "code",
      "source": [
        "for value in file_counts.values():\n",
        "  print(value)"
      ],
      "metadata": {
        "id": "PZfcATmCIJCd"
      },
      "execution_count": null,
      "outputs": []
    },
    {
      "cell_type": "code",
      "source": [
        "def count_letters(text):\n",
        "  result = {}\n",
        "  for letter in text:\n",
        "    if letter not in result:\n",
        "      result[letter] = 0 # membuat setiap letter untuk 0\n",
        "    result[letter] += 1 # menambahkan letter menjadi + 1 Masing masing\n",
        "  return result\n",
        "\n",
        "count_letters(\"atam\")"
      ],
      "metadata": {
        "id": "j0KbWxbaJJPu"
      },
      "execution_count": null,
      "outputs": []
    },
    {
      "cell_type": "markdown",
      "source": [
        "#### Exercise"
      ],
      "metadata": {
        "id": "8CW1YENGIqWL"
      }
    },
    {
      "cell_type": "code",
      "source": [
        "cool_beasts = {\"octopuses\":\"tentacles\", \"dolphins\":\"fins\", \"rhinos\":\"horns\"}\n",
        "for animal, body in cool_beasts.items():\n",
        "    print(\"{} have {}\".format(animal, body))"
      ],
      "metadata": {
        "id": "XNf6O-ThITqc"
      },
      "execution_count": null,
      "outputs": []
    },
    {
      "cell_type": "markdown",
      "source": [
        "### Iterating Over Dictionaries\n"
      ],
      "metadata": {
        "id": "UZk-AH2wKRVB"
      }
    },
    {
      "cell_type": "markdown",
      "source": [
        "You can iterate over dictionaries using a for loop, just like with strings, lists, and tuples. This will iterate over the sequence of keys in the dictionary. If you want to access the corresponding values associated with the keys, you could use the keys as indexes. Or you can use the **items** method on the dictionary, like **dictionary.items()**. This method returns a tuple for each element in the dictionary, where the first element in the tuple is the key and the second is the value.\n",
        "\n",
        "If you only wanted to access the keys in a dictionary, you could use the **keys()** method on the dictionary: **dictionary.keys()**. If you only wanted the values, you could use the **values()** method: **dictionary.values()**.\n",
        "\n",
        " \n",
        "Completed"
      ],
      "metadata": {
        "id": "6PLE2vMdKi6R"
      }
    },
    {
      "cell_type": "markdown",
      "source": [
        "### Dictionaries vs. Lists"
      ],
      "metadata": {
        "id": "ahcyp1YTLCPw"
      }
    },
    {
      "cell_type": "code",
      "source": [
        "wardrobe = {\"shirt\":[\"red\",\"blue\",\"white\"], \"jeans\":[\"blue\",\"black\"]}\n",
        "for baju, kain in wardrobe.items():\n",
        "\tfor warna in kain :\n",
        "\t\tprint(\"{} {}\".format(warna, baju))"
      ],
      "metadata": {
        "id": "HcOQhwSyLJUn"
      },
      "execution_count": null,
      "outputs": []
    },
    {
      "cell_type": "markdown",
      "source": [
        "### Dictionary Methods Cheat Sheet"
      ],
      "metadata": {
        "id": "WH4TVUaqNx8V"
      }
    },
    {
      "cell_type": "markdown",
      "source": [
        "\n",
        "\n",
        "**Dictionary Methods Cheat Sheet\n",
        "Definition**\n",
        "\n",
        "x = {key1:value1, key2:value2} \n",
        "\n",
        "**Operations**\n",
        "\n",
        "+ len(dictionary) - Returns the number of items in the dictionary\n",
        "\n",
        "+ for key in dictionary - Iterates over each key in the dictionary\n",
        "\n",
        "+ for key, value in dictionary.items() - Iterates over each key,value pair in the dictionary\n",
        "\n",
        "+ f key in dictionary - Checks whether the key is in the dictionary\n",
        "\n",
        "+ dictionary[key] - Accesses the item with key key of the dictionary\n",
        "\n",
        "+ dictionary[key] = value - Sets the value associated with key\n",
        "\n",
        "+ del dictionary[key] - Removes the item with key key from the dictionary\n",
        "\n",
        "**Methods**\n",
        "\n",
        "+ dict.get(key, default) - Returns the element corresponding to key, or default if it's not present\n",
        "\n",
        "+ dict.keys() - Returns a sequence containing the keys in the dictionary\n",
        "\n",
        "+ dict.values() - Returns a sequence containing the values in the dictionary\n",
        "\n",
        "+ dict.update(other_dictionary) - Updates the dictionary with the items coming from the other dictionary. Existing entries will be replaced; new entries will be added.\n",
        "\n",
        "+ dict.clear() - Removes all the items of the dictionary"
      ],
      "metadata": {
        "id": "OJPvioeyFZpv"
      }
    },
    {
      "cell_type": "markdown",
      "source": [
        "### Practixe Quiz: Dictionaries"
      ],
      "metadata": {
        "id": "IHL91TQsMTWo"
      }
    },
    {
      "cell_type": "code",
      "source": [
        "\"\"\" \n",
        "1. The email_list function receives a dictionary, which contains domain names as keys, \n",
        "and a list of users as values. Fill in the blanks to generate a list that contains \n",
        "complete email addresses (e.g. diana.prince@gmail.com). \n",
        "\"\"\"\n",
        "def email_list(domains):\n",
        "\temails = []\n",
        "\tfor email, users in domains.items():\n",
        "\t  for user in users:\n",
        "\t    emails.append(user+\"@\"+email)\n",
        "\treturn(emails)\n",
        "\n",
        "print(email_list({\"gmail.com\": [\"clark.kent\", \"diana.prince\", \"peter.parker\"], \"yahoo.com\": [\"barbara.gordon\", \"jean.grey\"], \"hotmail.com\": [\"bruce.wayne\"]}))\n"
      ],
      "metadata": {
        "id": "DrfzhOgzMYrQ"
      },
      "execution_count": null,
      "outputs": []
    },
    {
      "cell_type": "code",
      "source": [
        "\"\"\"\n",
        "2. The groups_per_user function receives a dictionary, which contains group names with the list of users. \n",
        "Users can belong to multiple groups. Fill in the blanks to return a dictionary with the users as \n",
        "keys and a list of their groups as values. \n",
        "\"\"\"\n",
        "def groups_per_user(group_dictionary):\n",
        "\tuser_groups = {}\n",
        "\t# Go through group_dictionary\n",
        "\tfor group, list_users in group_dictionary.items():\n",
        "\t\t# Now go through the users in the group\n",
        "\t\tfor user in list_users:\n",
        "\t\t\tif user not in user_groups:\n",
        "\t\t\t\tuser_groups[user] = []\n",
        "\t\t\tuser_groups[user].append(group)\n",
        "\t\t\t# Now add the group to the the list of\n",
        "# groups for this user, creating the entry\n",
        "# in the dictionary if necessary\n",
        "\n",
        "\treturn(user_groups)\n",
        "\n",
        "print(groups_per_user({\"local\": [\"admin\", \"userA\"],\n",
        "\t\t\"public\":  [\"admin\", \"userB\"],\n",
        "\t\t\"administrator\": [\"admin\"] }))\n"
      ],
      "metadata": {
        "id": "FJPzLXbbNBWA"
      },
      "execution_count": null,
      "outputs": []
    },
    {
      "cell_type": "markdown",
      "source": [
        "![image.png](data:image/png;base64,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)"
      ],
      "metadata": {
        "id": "3SDxpn_DNjCj"
      }
    },
    {
      "cell_type": "markdown",
      "source": [
        "![image.png](data:image/png;base64,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)"
      ],
      "metadata": {
        "id": "NHsR1TyFN2Ib"
      }
    },
    {
      "cell_type": "code",
      "source": [
        "\"\"\"\n",
        "5. The add_prices function returns the total price of all of \n",
        "the groceries in the  dictionary. Fill in the blanks to \n",
        "complete this function.\n",
        "\"\"\"\n",
        "\n",
        "def add_prices(basket):\n",
        "\t# Initialize the variable that will be used for the calculation\n",
        "\ttotal = 0\n",
        "\t# Iterate through the dictionary items\n",
        "\tfor objek, value in basket.items():\n",
        "\t\t# Add each price to the total calculation\n",
        "\t\t# Hint: how do you access the values of\n",
        "\t\t# dictionary items?\n",
        "\t\ttotal += value\n",
        "\t# Limit the return value to 2 decimal places\n",
        "\treturn round(total, 2)  \n",
        "\n",
        "groceries = {\"bananas\": 1.56, \"apples\": 2.50, \"oranges\": 0.99, \"bread\": 4.59, \n",
        "\t\"coffee\": 6.99, \"milk\": 3.39, \"eggs\": 2.98, \"cheese\": 5.44}\n",
        "\n",
        "print(add_prices(groceries)) # Should print 28.44"
      ],
      "metadata": {
        "id": "N7PpwS4JOIv8"
      },
      "execution_count": null,
      "outputs": []
    },
    {
      "cell_type": "markdown",
      "source": [
        "## Module Review"
      ],
      "metadata": {
        "id": "-3gyP9gAPI5s"
      }
    },
    {
      "cell_type": "markdown",
      "source": [
        ""
      ],
      "metadata": {
        "id": "GfSnCfDXPNgS"
      }
    }
  ]
}
